{
 "cells": [
  {
   "cell_type": "code",
   "execution_count": 2,
   "id": "eed2b89a",
   "metadata": {},
   "outputs": [
    {
     "name": "stdout",
     "output_type": "stream",
     "text": [
      "My name is Alice and I am 30 years old.\n"
     ]
    }
   ],
   "source": [
    "# Basic String Formatting:\n",
    "\n",
    "name = \"Alice\"\n",
    "age = 30\n",
    "formatted_str = \"My name is {} and I am {} years old.\".format(name, age)\n",
    "print(formatted_str)"
   ]
  },
  {
   "cell_type": "code",
   "execution_count": 6,
   "id": "975c5d2a",
   "metadata": {},
   "outputs": [
    {
     "name": "stdout",
     "output_type": "stream",
     "text": [
      "The price of apple is $1.93\n"
     ]
    }
   ],
   "source": [
    "# Positional Arguments in String Formatting:\n",
    "\n",
    "item = \"apple\"\n",
    "price = 1.933333\n",
    "formatted_str = \"The price of {} is ${:.2f}\".format(item, price)\n",
    "print(formatted_str)"
   ]
  },
  {
   "cell_type": "code",
   "execution_count": 7,
   "id": "eac564ae",
   "metadata": {},
   "outputs": [
    {
     "name": "stdout",
     "output_type": "stream",
     "text": [
      "Name: Bob, Age: 25\n"
     ]
    }
   ],
   "source": [
    "# Keyword Arguments in String Formatting:\n",
    "\n",
    "name = \"Bob\"\n",
    "age = 25\n",
    "formatted_str = \"Name: {name}, Age: {age}\".format(name=name, age=age)\n",
    "print(formatted_str)"
   ]
  },
  {
   "cell_type": "code",
   "execution_count": 10,
   "id": "9164a162",
   "metadata": {},
   "outputs": [
    {
     "name": "stdout",
     "output_type": "stream",
     "text": [
      "Number: 042\n"
     ]
    }
   ],
   "source": [
    "# Formatting Numbers with Padding:\n",
    "\n",
    "num = 42\n",
    "formatted_num = \"Number: {:03d}\".format(num)\n",
    "print(formatted_num)"
   ]
  },
  {
   "cell_type": "code",
   "execution_count": 11,
   "id": "c6b9a057",
   "metadata": {},
   "outputs": [
    {
     "name": "stdout",
     "output_type": "stream",
     "text": [
      "Value of pi: 3.14\n"
     ]
    }
   ],
   "source": [
    "# Formatting Floating Point Numbers:\n",
    "\n",
    "pi = 3.14159\n",
    "formatted_pi = \"Value of pi: {:.2f}\".format(pi)\n",
    "print(formatted_pi)"
   ]
  },
  {
   "cell_type": "code",
   "execution_count": 12,
   "id": "47cba8e8",
   "metadata": {},
   "outputs": [
    {
     "name": "stdout",
     "output_type": "stream",
     "text": [
      "Today's date is 2024-05-10\n"
     ]
    }
   ],
   "source": [
    "# Formatting Dates:\n",
    "\n",
    "from datetime import datetime\n",
    "\n",
    "current_date = datetime.now()\n",
    "\n",
    "formatted_date = \"Today's date is {:%Y-%m-%d}\".format(current_date)\n",
    "\n",
    "print(formatted_date)"
   ]
  },
  {
   "cell_type": "code",
   "execution_count": 13,
   "id": "b20289e0",
   "metadata": {},
   "outputs": [
    {
     "name": "stdout",
     "output_type": "stream",
     "text": [
      "My name is Charlie and I am 35 years old.\n"
     ]
    }
   ],
   "source": [
    "# Using f-strings for String Formatting (Python 3.6+):\n",
    "\n",
    "name = \"Charlie\"\n",
    "age = 35\n",
    "formatted_str = f\"My name is {name} and I am {age} years old.\"\n",
    "print(formatted_str)"
   ]
  },
  {
   "cell_type": "code",
   "execution_count": 14,
   "id": "6fff881a",
   "metadata": {},
   "outputs": [
    {
     "name": "stdout",
     "output_type": "stream",
     "text": [
      "  Hello   \n"
     ]
    }
   ],
   "source": [
    "# String Alignment and Padding:\n",
    "\n",
    "text = \"Hello\"\n",
    "formatted_text = \"{:^10}\".format(text)  # Center alignment with padding\n",
    "print(formatted_text)"
   ]
  },
  {
   "cell_type": "code",
   "execution_count": 15,
   "id": "8e574f66",
   "metadata": {},
   "outputs": [
    {
     "name": "stdout",
     "output_type": "stream",
     "text": [
      "Name: David, Age: 40\n"
     ]
    }
   ],
   "source": [
    "# Formatting with Dictionary Values:\n",
    "\n",
    "person = {'name': 'David', 'age': 40}\n",
    "formatted_str = \"Name: {name}, Age: {age}\".format(**person)\n",
    "print(formatted_str)"
   ]
  },
  {
   "cell_type": "code",
   "execution_count": 16,
   "id": "c783a16a",
   "metadata": {},
   "outputs": [
    {
     "name": "stdout",
     "output_type": "stream",
     "text": [
      "My name is Emily and I am 28 years old.\n"
     ]
    }
   ],
   "source": [
    "# Using Template Strings for String Formatting:\n",
    "\n",
    "from string import Template\n",
    "\n",
    "name = \"Emily\"\n",
    "age = 28\n",
    "template = Template(\"My name is $name and I am $age years old.\")\n",
    "formatted_str = template.substitute(name=name, age=age)\n",
    "\n",
    "print(formatted_str)"
   ]
  },
  {
   "cell_type": "code",
   "execution_count": null,
   "id": "5ca77522",
   "metadata": {},
   "outputs": [],
   "source": []
  }
 ],
 "metadata": {
  "kernelspec": {
   "display_name": "Python 3 (ipykernel)",
   "language": "python",
   "name": "python3"
  },
  "language_info": {
   "codemirror_mode": {
    "name": "ipython",
    "version": 3
   },
   "file_extension": ".py",
   "mimetype": "text/x-python",
   "name": "python",
   "nbconvert_exporter": "python",
   "pygments_lexer": "ipython3",
   "version": "3.11.5"
  }
 },
 "nbformat": 4,
 "nbformat_minor": 5
}
